{
 "cells": [
  {
   "cell_type": "code",
   "execution_count": 1,
   "id": "04fae31b",
   "metadata": {},
   "outputs": [],
   "source": [
    "import matplotlib.pyplot as plt"
   ]
  },
  {
   "cell_type": "code",
   "execution_count": 2,
   "id": "8035f8d9",
   "metadata": {},
   "outputs": [],
   "source": [
    "import numpy as np"
   ]
  },
  {
   "cell_type": "code",
   "execution_count": 3,
   "id": "2eda85e3",
   "metadata": {},
   "outputs": [],
   "source": [
    "import pandas as pd"
   ]
  },
  {
   "cell_type": "code",
   "execution_count": 4,
   "id": "45446093",
   "metadata": {},
   "outputs": [],
   "source": [
    "import sklearn.linear_model"
   ]
  },
  {
   "cell_type": "code",
   "execution_count": 5,
   "id": "da4945a5",
   "metadata": {},
   "outputs": [],
   "source": [
    "gdp = pd.read_csv(\"C:/Users/SAI/OneDrive/Desktop/Data Science/my experiments/money make people happy/GDP.csv\")"
   ]
  },
  {
   "cell_type": "code",
   "execution_count": 6,
   "id": "42dad69c",
   "metadata": {},
   "outputs": [
    {
     "name": "stdout",
     "output_type": "stream",
     "text": [
      "country      1\n",
      "1980         1\n",
      "1981         1\n",
      "1982         1\n",
      "1983         1\n",
      "1984         1\n",
      "1985         1\n",
      "1986         1\n",
      "1987         1\n",
      "1988         1\n",
      "1989         1\n",
      "1990         1\n",
      "1991         1\n",
      "1992         1\n",
      "1993         1\n",
      "1994         1\n",
      "1995         1\n",
      "1996         1\n",
      "1997         1\n",
      "1998         1\n",
      "1999         1\n",
      "2000         1\n",
      "2001         1\n",
      "2002         1\n",
      "2003         1\n",
      "2004         1\n",
      "2005         1\n",
      "2006         1\n",
      "2007         1\n",
      "2008         1\n",
      "2009         1\n",
      "2010         1\n",
      "2011         1\n",
      "2012         1\n",
      "2013         1\n",
      "2014         1\n",
      "2015         1\n",
      "2016         1\n",
      "2017         1\n",
      "2018         1\n",
      "2019         1\n",
      "2020         1\n",
      "2021         1\n",
      "2022         1\n",
      "this year    1\n",
      "dtype: int64\n"
     ]
    }
   ],
   "source": [
    "print(gdp.isnull().sum())"
   ]
  },
  {
   "cell_type": "code",
   "execution_count": 7,
   "id": "be3ae739",
   "metadata": {},
   "outputs": [
    {
     "name": "stdout",
     "output_type": "stream",
     "text": [
      "<class 'pandas.core.frame.DataFrame'>\n",
      "RangeIndex: 197 entries, 0 to 196\n",
      "Data columns (total 45 columns):\n",
      " #   Column     Non-Null Count  Dtype \n",
      "---  ------     --------------  ----- \n",
      " 0   country    196 non-null    object\n",
      " 1   1980       196 non-null    object\n",
      " 2   1981       196 non-null    object\n",
      " 3   1982       196 non-null    object\n",
      " 4   1983       196 non-null    object\n",
      " 5   1984       196 non-null    object\n",
      " 6   1985       196 non-null    object\n",
      " 7   1986       196 non-null    object\n",
      " 8   1987       196 non-null    object\n",
      " 9   1988       196 non-null    object\n",
      " 10  1989       196 non-null    object\n",
      " 11  1990       196 non-null    object\n",
      " 12  1991       196 non-null    object\n",
      " 13  1992       196 non-null    object\n",
      " 14  1993       196 non-null    object\n",
      " 15  1994       196 non-null    object\n",
      " 16  1995       196 non-null    object\n",
      " 17  1996       196 non-null    object\n",
      " 18  1997       196 non-null    object\n",
      " 19  1998       196 non-null    object\n",
      " 20  1999       196 non-null    object\n",
      " 21  2000       196 non-null    object\n",
      " 22  2001       196 non-null    object\n",
      " 23  2002       196 non-null    object\n",
      " 24  2003       196 non-null    object\n",
      " 25  2004       196 non-null    object\n",
      " 26  2005       196 non-null    object\n",
      " 27  2006       196 non-null    object\n",
      " 28  2007       196 non-null    object\n",
      " 29  2008       196 non-null    object\n",
      " 30  2009       196 non-null    object\n",
      " 31  2010       196 non-null    object\n",
      " 32  2011       196 non-null    object\n",
      " 33  2012       196 non-null    object\n",
      " 34  2013       196 non-null    object\n",
      " 35  2014       196 non-null    object\n",
      " 36  2015       196 non-null    object\n",
      " 37  2016       196 non-null    object\n",
      " 38  2017       196 non-null    object\n",
      " 39  2018       196 non-null    object\n",
      " 40  2019       196 non-null    object\n",
      " 41  2020       196 non-null    object\n",
      " 42  2021       196 non-null    object\n",
      " 43  2022       196 non-null    object\n",
      " 44  this year  196 non-null    object\n",
      "dtypes: object(45)\n",
      "memory usage: 69.4+ KB\n",
      "None\n"
     ]
    }
   ],
   "source": [
    "print(gdp.info())"
   ]
  },
  {
   "cell_type": "code",
   "execution_count": 8,
   "id": "056d44f7",
   "metadata": {},
   "outputs": [],
   "source": [
    "bli = pd.read_csv(\"C:/Users/SAI/OneDrive/Desktop/Data Science/my experiments/money make people happy/BIL.csv\", encoding='latin1')"
   ]
  },
  {
   "cell_type": "code",
   "execution_count": 9,
   "id": "df4ec062",
   "metadata": {},
   "outputs": [
    {
     "name": "stdout",
     "output_type": "stream",
     "text": [
      "country    0\n",
      "Value      0\n",
      "dtype: int64\n"
     ]
    }
   ],
   "source": [
    "print(bli[['country', 'Value']].isnull().sum())"
   ]
  },
  {
   "cell_type": "code",
   "execution_count": 10,
   "id": "cbd87abc",
   "metadata": {},
   "outputs": [
    {
     "name": "stdout",
     "output_type": "stream",
     "text": [
      "<class 'pandas.core.frame.DataFrame'>\n",
      "RangeIndex: 35 entries, 0 to 34\n",
      "Data columns (total 2 columns):\n",
      " #   Column   Non-Null Count  Dtype  \n",
      "---  ------   --------------  -----  \n",
      " 0   country  35 non-null     object \n",
      " 1   Value    35 non-null     float64\n",
      "dtypes: float64(1), object(1)\n",
      "memory usage: 688.0+ bytes\n",
      "None\n"
     ]
    }
   ],
   "source": [
    "print(bli.info())"
   ]
  },
  {
   "cell_type": "code",
   "execution_count": 11,
   "id": "ba8a756b",
   "metadata": {},
   "outputs": [
    {
     "name": "stdout",
     "output_type": "stream",
     "text": [
      "GDP Columns: Index(['country', '1980', '1981', '1982', '1983', '1984', '1985', '1986',\n",
      "       '1987', '1988', '1989', '1990', '1991', '1992', '1993', '1994', '1995',\n",
      "       '1996', '1997', '1998', '1999', '2000', '2001', '2002', '2003', '2004',\n",
      "       '2005', '2006', '2007', '2008', '2009', '2010', '2011', '2012', '2013',\n",
      "       '2014', '2015', '2016', '2017', '2018', '2019', '2020', '2021', '2022',\n",
      "       'this year'],\n",
      "      dtype='object')\n"
     ]
    }
   ],
   "source": [
    "print(\"GDP Columns:\", gdp.columns)"
   ]
  },
  {
   "cell_type": "code",
   "execution_count": 12,
   "id": "d5f39450",
   "metadata": {},
   "outputs": [
    {
     "name": "stdout",
     "output_type": "stream",
     "text": [
      "bli Columns: Index(['country', 'Value'], dtype='object')\n"
     ]
    }
   ],
   "source": [
    "print(\"bli Columns:\", bli.columns)\n"
   ]
  },
  {
   "cell_type": "code",
   "execution_count": 13,
   "id": "20383662",
   "metadata": {},
   "outputs": [
    {
     "name": "stdout",
     "output_type": "stream",
     "text": [
      "Sample GDP Data:\n",
      "       country      1980      1981      1982      1983      1984      1985  \\\n",
      "0          NaN       NaN       NaN       NaN       NaN       NaN       NaN   \n",
      "1  Afghanistan   no data   no data   no data   no data   no data   no data   \n",
      "2      Albania   728.359   817.734   824.542   815.529   788.332   788.801   \n",
      "3      Algeria  2268.607  2305.505  2254.328  2316.679  2432.717  2753.697   \n",
      "4      Andorra   no data   no data   no data   no data   no data   no data   \n",
      "\n",
      "       1986      1987      1988  ...       2014       2015       2016  \\\n",
      "0       NaN       NaN       NaN  ...        NaN        NaN        NaN   \n",
      "1   no data   no data   no data  ...    746.922    705.597    617.126   \n",
      "2   855.724   832.245   805.046  ...   4584.917   3953.609   4124.405   \n",
      "3  2698.915  2705.111  2143.742  ...   5466.329   4153.322   3918.941   \n",
      "4   no data   no data   no data  ...  46299.282  38877.485  39595.317   \n",
      "\n",
      "        2017       2018       2019      2020       2021       2022  this year  \n",
      "0        NaN        NaN        NaN       NaN        NaN        NaN        NaN  \n",
      "1    635.789    582.323    586.204   611.268    no data    no data    no data  \n",
      "2   4525.889   5254.455   5305.074  5152.563    5837.18   6284.027    6622.85  \n",
      "3   4079.653   4118.735   3939.536  3337.317   3638.328   3672.463   3696.736  \n",
      "4  40017.741  42229.903  40688.491  36630.55  40417.265  42713.076  44321.894  \n",
      "\n",
      "[5 rows x 45 columns]\n"
     ]
    }
   ],
   "source": [
    "print(\"Sample GDP Data:\")\n",
    "print(gdp.head())"
   ]
  },
  {
   "cell_type": "code",
   "execution_count": 14,
   "id": "bb11e151",
   "metadata": {},
   "outputs": [
    {
     "name": "stdout",
     "output_type": "stream",
     "text": [
      "\n",
      "Sample Better Life Index Data:\n",
      "     country  Value\n",
      "0  Australia    7.1\n",
      "1    Austria    7.2\n",
      "2    Belgium    6.8\n",
      "3     Canada    7.0\n",
      "4    Czechia    6.9\n"
     ]
    }
   ],
   "source": [
    "print(\"\\nSample Better Life Index Data:\")\n",
    "print(bli.head())"
   ]
  },
  {
   "cell_type": "code",
   "execution_count": 15,
   "id": "00767e6d",
   "metadata": {},
   "outputs": [],
   "source": [
    "merged_data = pd.merge(gdp, bli[['country', 'Value']], on='country', how='inner')"
   ]
  },
  {
   "cell_type": "code",
   "execution_count": 16,
   "id": "4ee0914c",
   "metadata": {},
   "outputs": [
    {
     "name": "stdout",
     "output_type": "stream",
     "text": [
      "\n",
      "Merged Data:\n",
      "     country       1980       1981       1982       1983       1984  \\\n",
      "0  Australia  10987.053   12505.14  12212.046  11570.453  12551.717   \n",
      "1    Austria  10731.955   9280.728   9267.664   9417.235   8882.629   \n",
      "2    Belgium  12529.348  10366.108   9128.584    8626.16   8244.846   \n",
      "3     Canada  11280.199  12396.666  12543.938  13493.198  13947.358   \n",
      "4      Chile   2579.918   3004.727   2204.378   1762.216   1687.021   \n",
      "\n",
      "        1985       1986       1987       1988  ...       2015       2016  \\\n",
      "0  10947.212  11224.322  12974.458  16215.803  ...  51484.642  51915.239   \n",
      "1   9090.795  12886.095  16093.014  17632.815  ...  44267.809  45278.829   \n",
      "2   8568.653  11873.806  14740.456  16008.638  ...  41147.261  42076.398   \n",
      "3  14185.922   14539.75  16408.139  19041.182  ...   43626.47  42382.635   \n",
      "4   1424.363   1504.431    1743.88   2021.045  ...  13571.015    13779.4   \n",
      "\n",
      "        2017       2018       2019       2020       2021       2022  \\\n",
      "0  55914.998  56460.904  54476.913  52905.397  62618.587   64895.02   \n",
      "1  47317.911  51246.153  50246.607  48592.707  53793.367  57878.724   \n",
      "2  44274.073  47718.412  46555.088  44688.462  50412.713  53452.463   \n",
      "3  45191.961  46532.165  46399.714  43294.795  52791.228  56739.818   \n",
      "4  15034.796  15865.535  14619.502  12992.976  16799.367  17701.618   \n",
      "\n",
      "   this year Value  \n",
      "0  67842.292   7.1  \n",
      "1  60403.543   7.2  \n",
      "2  55938.772   6.8  \n",
      "3  59125.562   7.0  \n",
      "4  18606.537   6.2  \n",
      "\n",
      "[5 rows x 46 columns]\n"
     ]
    }
   ],
   "source": [
    "print(\"\\nMerged Data:\")\n",
    "print(merged_data.head())\n",
    "merged_data['this year'] = pd.to_numeric(merged_data['this year'], errors='coerce')"
   ]
  },
  {
   "cell_type": "code",
   "execution_count": 17,
   "id": "43ff00d0",
   "metadata": {},
   "outputs": [],
   "source": [
    "merged_data = merged_data.dropna()"
   ]
  },
  {
   "cell_type": "code",
   "execution_count": 18,
   "id": "e5f05fda",
   "metadata": {},
   "outputs": [
    {
     "data": {
      "image/png": "[encoded data removed]",
      "text/plain": [
       "<Figure size 432x288 with 1 Axes>"
      ]
     },
     "metadata": {
      "needs_background": "light"
     },
     "output_type": "display_data"
    }
   ],
   "source": [
    "plt.scatter(merged_data['this year'], merged_data['Value'])\n",
    "plt.title('GDP vs Better Life Index')\n",
    "plt.xlabel('GDP')\n",
    "plt.ylabel('Better Life Index')\n",
    "plt.show()"
   ]
  },
  {
   "cell_type": "code",
   "execution_count": 19,
   "id": "77a408e6",
   "metadata": {},
   "outputs": [
    {
     "name": "stdout",
     "output_type": "stream",
     "text": [
      "           this year      Value\n",
      "count      32.000000  32.000000\n",
      "mean    54108.527187   6.815625\n",
      "std     29699.744394   0.585915\n",
      "min     11024.772000   5.800000\n",
      "25%     31033.914500   6.425000\n",
      "50%     54120.243500   6.900000\n",
      "75%     66287.883250   7.300000\n",
      "max    144013.307000   7.900000\n"
     ]
    }
   ],
   "source": [
    "statistics = merged_data[['this year', 'Value']].describe()\n",
    "print(statistics)"
   ]
  },
  {
   "cell_type": "code",
   "execution_count": 20,
   "id": "34e6bdce",
   "metadata": {},
   "outputs": [
    {
     "name": "stdout",
     "output_type": "stream",
     "text": [
      "Correlation Coefficient: 0.7368693674394261\n"
     ]
    }
   ],
   "source": [
    "correlation_coefficient = merged_data['this year'].corr(merged_data['Value'])\n",
    "print(f\"Correlation Coefficient: {correlation_coefficient}\")"
   ]
  },
  {
   "cell_type": "code",
   "execution_count": 21,
   "id": "d16d3a34",
   "metadata": {},
   "outputs": [],
   "source": [
    "australia_data = merged_data[merged_data['country'] == 'Australia']"
   ]
  },
  {
   "cell_type": "code",
   "execution_count": 22,
   "id": "273b3b44",
   "metadata": {},
   "outputs": [
    {
     "data": {
      "image/png": "[encoded data removed]",
      "text/plain": [
       "<Figure size 432x288 with 1 Axes>"
      ]
     },
     "metadata": {
      "needs_background": "light"
     },
     "output_type": "display_data"
    }
   ],
   "source": [
    "plt.scatter(australia_data['this year'], australia_data['Value'])\n",
    "plt.title('Australia: GDP vs Better Life Index')\n",
    "plt.xlabel('GDP (2023)')  # Replace '2023' with the actual year\n",
    "plt.ylabel('Better Life Index')\n",
    "plt.show()"
   ]
  },
  {
   "cell_type": "code",
   "execution_count": 23,
   "id": "b60c9384",
   "metadata": {},
   "outputs": [
    {
     "name": "stdout",
     "output_type": "stream",
     "text": [
      "Descriptive Statistics for Australia:\n",
      "       this year  Value\n",
      "count      1.000    1.0\n",
      "mean   67842.292    7.1\n",
      "std          NaN    NaN\n",
      "min    67842.292    7.1\n",
      "25%    67842.292    7.1\n",
      "50%    67842.292    7.1\n",
      "75%    67842.292    7.1\n",
      "max    67842.292    7.1\n"
     ]
    }
   ],
   "source": [
    "australia_statistics = australia_data[['this year', 'Value']].describe()\n",
    "print(\"Descriptive Statistics for Australia:\")\n",
    "print(australia_statistics)"
   ]
  },
  {
   "cell_type": "code",
   "execution_count": 24,
   "id": "c1eb7e62",
   "metadata": {},
   "outputs": [
    {
     "name": "stdout",
     "output_type": "stream",
     "text": [
      "Correlation Coefficient for Australia: nan\n"
     ]
    },
    {
     "name": "stderr",
     "output_type": "stream",
     "text": [
      "C:\\Users\\SAI\\anaconda3\\anakonda\\lib\\site-packages\\numpy\\lib\\function_base.py:2634: RuntimeWarning: Degrees of freedom <= 0 for slice\n",
      "  c = cov(x, y, rowvar, dtype=dtype)\n",
      "C:\\Users\\SAI\\anaconda3\\anakonda\\lib\\site-packages\\numpy\\lib\\function_base.py:2493: RuntimeWarning: divide by zero encountered in true_divide\n",
      "  c *= np.true_divide(1, fact)\n"
     ]
    }
   ],
   "source": [
    "australia_correlation = australia_data['this year'].corr(australia_data['Value'])\n",
    "print(f\"Correlation Coefficient for Australia: {australia_correlation}\")"
   ]
  },
  {
   "cell_type": "code",
   "execution_count": null,
   "id": "9f1e3b8e",
   "metadata": {},
   "outputs": [],
   "source": []
  }
 ],
 "metadata": {
  "kernelspec": {
   "display_name": "Python 3 (ipykernel)",
   "language": "python",
   "name": "python3"
  },
  "language_info": {
   "codemirror_mode": {
    "name": "ipython",
    "version": 3
   },
   "file_extension": ".py",
   "mimetype": "text/x-python",
   "name": "python",
   "nbconvert_exporter": "python",
   "pygments_lexer": "ipython3",
   "version": "3.9.7"
  }
 },
 "nbformat": 4,
 "nbformat_minor": 5
}
